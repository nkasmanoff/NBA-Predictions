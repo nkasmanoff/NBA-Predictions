{
 "cells": [
  {
   "cell_type": "markdown",
   "metadata": {},
   "source": [
    "# N Games Lookback\n",
    "\n",
    "\n",
    "This notebook hopes to identify how many games of lookback correspond to optimal amount, if at all, one can use to create a proxy for played games. "
   ]
  },
  {
   "cell_type": "code",
   "execution_count": 2,
   "metadata": {},
   "outputs": [],
   "source": [
    "#import dependencies and dataset\n",
    "\n",
    "import numpy as np\n",
    "import pandas as pd\n",
    "\n",
    "import matplotlib.pyplot as plt\n",
    "\n",
    "%matplotlib inline\n",
    "\n",
    "dataset = '../data/NBADATA.csv'"
   ]
  },
  {
   "cell_type": "code",
   "execution_count": 3,
   "metadata": {
    "collapsed": true
   },
   "outputs": [],
   "source": [
    "def rolling_correlations(data,ngames):\n",
    "    \"\"\"Determines the correlation between a team's performance in a\n",
    "    particular category compared to that team's split average over the previous ngames. \n",
    "    Use this function to determine optimal lookback period. \n",
    "    \n",
    "    data : df\n",
    "        Dataframe containing all the box scores over previous 5 season. \n",
    "        \n",
    "    ngames : int\n",
    "        Lookback splits. Ex: ngames=5 corresponds to team's splits over previous 5 games. \n",
    "    \"\"\"\n",
    "    \n",
    "    \n",
    "#delete irrelevant columns (for this section), they will be useful for other pieces of the study but not here!\n",
    "    nba_explore = pd.read_csv(dataset)\n",
    "    del nba_explore['Unnamed: 0'],nba_explore['GAME_ID'],nba_explore['Date'],nba_explore['Team'],nba_explore['Home'],nba_explore['Away']\n",
    "    del nba_explore['OU'],nba_explore['TOTAL']\n",
    "\n",
    "#add some other potential columns, like efficency. \n",
    "    nba_explore['3P%'] = np.divide(nba_explore['3P'].values,nba_explore['3PA'].values) \n",
    "\n",
    "    nba_explore['FG%'] = np.divide(nba_explore['FG'].values,nba_explore['FGA'].values)\n",
    "    nba_explore['FT%'] = np.divide(nba_explore['FT'].values,nba_explore['FTA'].values)\n",
    "    nba_explore['TRB']  = nba_explore['OR'] + nba_explore['DR']\n",
    "\n",
    "    nba_explore['AST/TO'] = np.divide(nba_explore['AST'].values,nba_explore['TO'].values)\n",
    "\n",
    "\n",
    "    relevant_stats = []\n",
    "    for col in nba_explore.columns:\n",
    "        if col != 'PLUS_MINUS':\n",
    "           # print(col + \" Correlation to Outcome\")\n",
    "            corr = np.corrcoef(nba_explore[col],nba_explore['PLUS_MINUS'])\n",
    "            #print(corr[0][1])\n",
    "            if abs(corr[0][1]) < .1:\n",
    "                pass\n",
    "            else:\n",
    "                relevant_stats.append(col)\n",
    "        \n",
    "\n",
    "    print(\"Using a window of \" ,ngames, \" games. \")\n",
    "    data['AST/TO'] = np.divide(data['AST'].values,data['TO'].values)\n",
    "    data['3P%'] = np.divide(data['3P'].values,data['3PA'].values) \n",
    "    data['FG%'] = np.divide(data['FG'].values,data['FGA'].values)\n",
    "    data['FT%'] = np.divide(data['FT'].values,data['FTA'].values)\n",
    "    del data['Unnamed: 0'],data['TOTAL']\n",
    "   # del data['Date']\n",
    "    data = data.loc[data['GAME_ID'].values < 41300001] #genius! No playoff games now :)   \n",
    "    #del data['Team'] \n",
    "    #data = pd.get_dummies(data) #sometimes option to hot tcode team, but not yet. Seems like overfitting. \n",
    "    teams = data.Team.unique() #each nba team. \n",
    "#iterate over those teams, make a rolling window\n",
    "    nba_data = pd.DataFrame([])\n",
    "    season_ids = []\n",
    "    for i,val in enumerate(data['GAME_ID'].values):  #loop through every game\n",
    "        season_ids.append(str(val)[1:3])\n",
    "\n",
    "    data['Season_ID'] = season_ids #identify the unique seasons. \n",
    "\n",
    "    for team in teams:  #for each team\n",
    "       # print(team)\n",
    "    #get separate seasons here\n",
    "        team_data = data.loc[data['Team'] == team]  #this contains the box score of every team game from 2013 to 2018.\n",
    "        for season in data['Season_ID'].unique(): #this contains the box score of that team for that season. \n",
    "            #print(season)\n",
    "            team_season = team_data.loc[team_data['Season_ID'] == season]\n",
    "        \n",
    "            stuff_to_turn_into_avgs =  relevant_stats  #['OR', 'DR', 'TOT', 'PF', 'ST', 'TO', 'BL', '3P%', 'FG%', 'FT%']\n",
    "            for col in team_season.columns:\n",
    "                if col in stuff_to_turn_into_avgs:\n",
    "                        team_season['Rolling ' + col] = team_season[col].rolling(window=ngames).mean().shift(1)\n",
    "\n",
    "            #split each season up here, \n",
    "                    #if col != 'PTS':\n",
    "                    #    team_season['Rolling ' + col] = team_season[col].rolling(window=N_GAMES).mean().shift(1)\n",
    "\n",
    "                        del team_season[col]\n",
    "                    \n",
    "            nba_data =  nba_data.append(team_season)\n",
    "\n",
    "           # df = pd.concat([road_df,home_df],axis=1)\n",
    "#reorganize the dataset. \n",
    "    nba_data_splits = nba_data.sort_values(by = ['GAME_ID', 'Home','Away'], ascending=[True, True,False])\n",
    "\n",
    "    nba_data_splits.dropna(inplace=True)\n",
    "\n",
    "    del nba_data_splits['Home'], nba_data_splits['Away'], nba_data_splits['FGA'], nba_data_splits['3PA'], nba_data_splits['FTA'], nba_data_splits['OR'],nba_data_splits['PF']                                                                                                                                \n",
    "    del nba_data_splits['PLUS_MINUS'], nba_data_splits['OU'],nba_data_splits['Rolling SPREAD'],nba_data_splits['Season_ID']\n",
    "    nba_dataset = pd.read_csv(dataset)                                                                                                               \n",
    "    rolling_vals = nba_data_splits\n",
    "  #  print(rolling_vals.head())\n",
    "    game_vals = nba_dataset\n",
    "    merged = game_vals.merge(rolling_vals,on=['GAME_ID','Team'])\n",
    "    print(rolling_vals.columns)\n",
    "#   del merged['GAME_ID'],merged['Team'],merged['Home'],merged['Away'],merged['SPREAD']\n",
    "  #  print(\"do dates align? \")\n",
    " #   print(merged[['Date_x','Date_y']].values[0:10])\n",
    "    total_corr = 0\n",
    "    for col in merged:\n",
    "        try:\n",
    "            corr = np.corrcoef(merged[col],merged['Rolling ' + col])[0][1]\n",
    "            #print(col)\n",
    "            #print(corr)\n",
    "            total_corr += abs(corr)\n",
    "        except:\n",
    "            pass\n",
    "    return total_corr"
   ]
  },
  {
   "cell_type": "code",
   "execution_count": 4,
   "metadata": {},
   "outputs": [
    {
     "name": "stdout",
     "output_type": "stream",
     "text": [
      "Using a window of  1  games. \n"
     ]
    },
    {
     "name": "stderr",
     "output_type": "stream",
     "text": [
      "/Users/noahkasmanoff/anaconda/lib/python3.6/site-packages/ipykernel/__main__.py:58: SettingWithCopyWarning: \n",
      "A value is trying to be set on a copy of a slice from a DataFrame.\n",
      "Try using .loc[row_indexer,col_indexer] = value instead\n",
      "\n",
      "See the caveats in the documentation: http://pandas.pydata.org/pandas-docs/stable/indexing.html#indexing-view-versus-copy\n",
      "/Users/noahkasmanoff/anaconda/lib/python3.6/site-packages/ipykernel/__main__.py:71: SettingWithCopyWarning: \n",
      "A value is trying to be set on a copy of a slice from a DataFrame.\n",
      "Try using .loc[row_indexer,col_indexer] = value instead\n",
      "\n",
      "See the caveats in the documentation: http://pandas.pydata.org/pandas-docs/stable/indexing.html#indexing-view-versus-copy\n"
     ]
    },
    {
     "name": "stdout",
     "output_type": "stream",
     "text": [
      "Index(['GAME_ID', 'Date', 'Team', 'Rolling FG', 'Rolling 3P', 'Rolling FT',\n",
      "       'Rolling DR', 'Rolling AST', 'Rolling ST', 'Rolling TO', 'Rolling BL',\n",
      "       'Rolling PTS', 'Rolling AST/TO', 'Rolling 3P%', 'Rolling FG%',\n",
      "       'Rolling FT%'],\n",
      "      dtype='object')\n",
      "Total Correlation =  1.32682989651\n",
      "Using a window of  3  games. \n",
      "Index(['GAME_ID', 'Date', 'Team', 'Rolling FG', 'Rolling 3P', 'Rolling FT',\n",
      "       'Rolling DR', 'Rolling AST', 'Rolling ST', 'Rolling TO', 'Rolling BL',\n",
      "       'Rolling PTS', 'Rolling AST/TO', 'Rolling 3P%', 'Rolling FG%',\n",
      "       'Rolling FT%'],\n",
      "      dtype='object')\n",
      "Total Correlation =  1.91354567747\n",
      "Using a window of  5  games. \n",
      "Index(['GAME_ID', 'Date', 'Team', 'Rolling FG', 'Rolling 3P', 'Rolling FT',\n",
      "       'Rolling DR', 'Rolling AST', 'Rolling ST', 'Rolling TO', 'Rolling BL',\n",
      "       'Rolling PTS', 'Rolling AST/TO', 'Rolling 3P%', 'Rolling FG%',\n",
      "       'Rolling FT%'],\n",
      "      dtype='object')\n",
      "Total Correlation =  2.14684256513\n",
      "Using a window of  10  games. \n",
      "Index(['GAME_ID', 'Date', 'Team', 'Rolling FG', 'Rolling 3P', 'Rolling FT',\n",
      "       'Rolling DR', 'Rolling AST', 'Rolling ST', 'Rolling TO', 'Rolling BL',\n",
      "       'Rolling PTS', 'Rolling AST/TO', 'Rolling 3P%', 'Rolling FG%',\n",
      "       'Rolling FT%'],\n",
      "      dtype='object')\n",
      "Total Correlation =  2.42952612792\n",
      "Using a window of  15  games. \n",
      "Index(['GAME_ID', 'Date', 'Team', 'Rolling FG', 'Rolling 3P', 'Rolling FT',\n",
      "       'Rolling DR', 'Rolling AST', 'Rolling ST', 'Rolling TO', 'Rolling BL',\n",
      "       'Rolling PTS', 'Rolling AST/TO', 'Rolling 3P%', 'Rolling FG%',\n",
      "       'Rolling FT%'],\n",
      "      dtype='object')\n",
      "Total Correlation =  2.53907368122\n",
      "Using a window of  22  games. \n",
      "Index(['GAME_ID', 'Date', 'Team', 'Rolling FG', 'Rolling 3P', 'Rolling FT',\n",
      "       'Rolling DR', 'Rolling AST', 'Rolling ST', 'Rolling TO', 'Rolling BL',\n",
      "       'Rolling PTS', 'Rolling AST/TO', 'Rolling 3P%', 'Rolling FG%',\n",
      "       'Rolling FT%'],\n",
      "      dtype='object')\n",
      "Total Correlation =  2.57968077841\n",
      "Using a window of  30  games. \n",
      "Index(['GAME_ID', 'Date', 'Team', 'Rolling FG', 'Rolling 3P', 'Rolling FT',\n",
      "       'Rolling DR', 'Rolling AST', 'Rolling ST', 'Rolling TO', 'Rolling BL',\n",
      "       'Rolling PTS', 'Rolling AST/TO', 'Rolling 3P%', 'Rolling FG%',\n",
      "       'Rolling FT%'],\n",
      "      dtype='object')\n",
      "Total Correlation =  2.63056681394\n",
      "Using a window of  40  games. \n",
      "Index(['GAME_ID', 'Date', 'Team', 'Rolling FG', 'Rolling 3P', 'Rolling FT',\n",
      "       'Rolling DR', 'Rolling AST', 'Rolling ST', 'Rolling TO', 'Rolling BL',\n",
      "       'Rolling PTS', 'Rolling AST/TO', 'Rolling 3P%', 'Rolling FG%',\n",
      "       'Rolling FT%'],\n",
      "      dtype='object')\n",
      "Total Correlation =  2.65133269683\n",
      "Using a window of  50  games. \n",
      "Index(['GAME_ID', 'Date', 'Team', 'Rolling FG', 'Rolling 3P', 'Rolling FT',\n",
      "       'Rolling DR', 'Rolling AST', 'Rolling ST', 'Rolling TO', 'Rolling BL',\n",
      "       'Rolling PTS', 'Rolling AST/TO', 'Rolling 3P%', 'Rolling FG%',\n",
      "       'Rolling FT%'],\n",
      "      dtype='object')\n",
      "Total Correlation =  2.64674929732\n",
      "Using a window of  60  games. \n",
      "Index(['GAME_ID', 'Date', 'Team', 'Rolling FG', 'Rolling 3P', 'Rolling FT',\n",
      "       'Rolling DR', 'Rolling AST', 'Rolling ST', 'Rolling TO', 'Rolling BL',\n",
      "       'Rolling PTS', 'Rolling AST/TO', 'Rolling 3P%', 'Rolling FG%',\n",
      "       'Rolling FT%'],\n",
      "      dtype='object')\n",
      "Total Correlation =  2.65271548096\n",
      "Using a window of  75  games. \n",
      "Index(['GAME_ID', 'Date', 'Team', 'Rolling FG', 'Rolling 3P', 'Rolling FT',\n",
      "       'Rolling DR', 'Rolling AST', 'Rolling ST', 'Rolling TO', 'Rolling BL',\n",
      "       'Rolling PTS', 'Rolling AST/TO', 'Rolling 3P%', 'Rolling FG%',\n",
      "       'Rolling FT%'],\n",
      "      dtype='object')\n",
      "Total Correlation =  2.62951775561\n",
      "Using a window of  81  games. \n",
      "Index(['GAME_ID', 'Date', 'Team', 'Rolling FG', 'Rolling 3P', 'Rolling FT',\n",
      "       'Rolling DR', 'Rolling AST', 'Rolling ST', 'Rolling TO', 'Rolling BL',\n",
      "       'Rolling PTS', 'Rolling AST/TO', 'Rolling 3P%', 'Rolling FG%',\n",
      "       'Rolling FT%'],\n",
      "      dtype='object')\n",
      "Total Correlation =  2.1334646461\n"
     ]
    }
   ],
   "source": [
    "ngames = [1,3,5,10,15,22,30,40,50,60,75,81]  #various N Game split sizes. \n",
    "ngame_corrs = []\n",
    "for lookback in ngames:\n",
    "    nba_dataset = pd.read_csv('../data/NBADATA.csv')\n",
    "    total_corr = rolling_correlations(nba_dataset,lookback)\n",
    "    print(\"Total Correlation = \", total_corr)\n",
    "    ngame_corrs.append(total_corr)\n",
    "  "
   ]
  },
  {
   "cell_type": "code",
   "execution_count": 5,
   "metadata": {},
   "outputs": [
    {
     "data": {
      "text/plain": [
       "[<matplotlib.lines.Line2D at 0x119ac0b38>]"
      ]
     },
     "execution_count": 5,
     "metadata": {},
     "output_type": "execute_result"
    },
    {
     "data": {
      "image/png": "[encoded data removed]",
      "text/plain": [
       "<matplotlib.figure.Figure at 0x119ac0b70>"
      ]
     },
     "metadata": {},
     "output_type": "display_data"
    }
   ],
   "source": [
    "plt.style.use('fivethirtyeight')\n",
    "  \n",
    "plt.title('Correlation Between Splits and in Game Box Score')   \n",
    "plt.xlabel('N Games')\n",
    "plt.ylabel('Correlation')\n",
    "plt.plot(ngames,ngame_corrs,'bo--')"
   ]
  },
  {
   "cell_type": "markdown",
   "metadata": {},
   "source": [
    "# Now after seeing this line of diminishing returns, it appears that ~30 games is the optimal average to use for correlating between a team's upcoming game and it's performance in the previous N games. In order to now translate this into a dataset ready for a machine learning model, please head over to the \"Create ML Dataset\" notebook also located in this repo. "
   ]
  },
  {
   "cell_type": "code",
   "execution_count": null,
   "metadata": {
    "collapsed": true
   },
   "outputs": [],
   "source": []
  },
  {
   "cell_type": "code",
   "execution_count": null,
   "metadata": {
    "collapsed": true
   },
   "outputs": [],
   "source": []
  },
  {
   "cell_type": "code",
   "execution_count": null,
   "metadata": {
    "collapsed": true
   },
   "outputs": [],
   "source": []
  }
 ],
 "metadata": {
  "kernelspec": {
   "display_name": "Python 3",
   "language": "python",
   "name": "python3"
  },
  "language_info": {
   "codemirror_mode": {
    "name": "ipython",
    "version": 3
   },
   "file_extension": ".py",
   "mimetype": "text/x-python",
   "name": "python",
   "nbconvert_exporter": "python",
   "pygments_lexer": "ipython3",
   "version": "3.6.1"
  }
 },
 "nbformat": 4,
 "nbformat_minor": 2
}
