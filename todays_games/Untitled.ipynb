{
 "cells": [
  {
   "cell_type": "code",
   "execution_count": 52,
   "metadata": {
    "collapsed": true
   },
   "outputs": [],
   "source": [
    "from datetime import datetime\n",
    "from nba_py import Scoreboard\n",
    "import numpy as np\n",
    "import pandas as pd\n",
    "\n",
    "def get_yesterdays_games():\n",
    "    today = datetime.now()\n",
    "\n",
    "    try:\n",
    "        day = today.day-1\n",
    "        month = today.month\n",
    "        year = today.year\n",
    "    except:\n",
    "        print(\"Error: Is it a new month or new year?\")\n",
    " \n",
    "    ex = Scoreboard(month=month,day=day,year=year)\n",
    "    yesterdays_games = ex.line_score()[['TEAM_ABBREVIATION','PTS','GAME_ID']]\n",
    "    teams = []\n",
    "    scores = []\n",
    "    for i, game in enumerate(yesterdays_games.values):\n",
    "        teams.append(game[0])\n",
    "        scores.append(game[1])\n",
    "    road_teams = teams[0::2]\n",
    "    home_teams = teams[1::2]\n",
    "    road_scores = scores[0::2]\n",
    "    home_scores = scores[1::2]\n",
    "    f = open(\"output.txt\", \"a\")\n",
    "    f.write('\\n')\n",
    "    f.write(\"Winners from \" + str(month)+'/'+str(day)+'/'+str(year))\n",
    "\n",
    "    for i in range(len(road_teams)):\n",
    "\n",
    "        if road_scores[i] > home_scores[i]:\n",
    "            f.write(road_teams[i])\n",
    "        else:\n",
    "            f.write(home_teams[i])\n",
    "    print(\"Done!\")"
   ]
  },
  {
   "cell_type": "code",
   "execution_count": 54,
   "metadata": {},
   "outputs": [
    {
     "name": "stdout",
     "output_type": "stream",
     "text": [
      "Winners from 11/8/2018\n",
      "OKC\n",
      "BOS\n",
      "POR\n",
      "MIL\n"
     ]
    }
   ],
   "source": [
    "get_yesterdays_games()"
   ]
  },
  {
   "cell_type": "code",
   "execution_count": 32,
   "metadata": {},
   "outputs": [],
   "source": [
    "yesterdays_games = eh.line_score()[['TEAM_ABBREVIATION','PTS','GAME_ID']]"
   ]
  },
  {
   "cell_type": "code",
   "execution_count": 34,
   "metadata": {},
   "outputs": [],
   "source": [
    "yesterdays_games\n",
    "\n",
    "teams = []\n",
    "scores = []\n",
    "for i, game in enumerate(yesterdays_games.values):\n",
    "    teams.append(game[0])\n",
    "    scores.append(game[1])"
   ]
  },
  {
   "cell_type": "code",
   "execution_count": 26,
   "metadata": {},
   "outputs": [
    {
     "data": {
      "text/plain": [
       "array([['HOU', 80, '0021800163'],\n",
       "       ['OKC', 98, '0021800163'],\n",
       "       ['BOS', 116, '0021800164'],\n",
       "       ['PHX', 109, '0021800164'],\n",
       "       ['LAC', 105, '0021800165'],\n",
       "       ['POR', 116, '0021800165'],\n",
       "       ['MIL', 134, '0021800166'],\n",
       "       ['GSW', 111, '0021800166']], dtype=object)"
      ]
     },
     "execution_count": 26,
     "metadata": {},
     "output_type": "execute_result"
    }
   ],
   "source": [
    "yestersdays_games.values"
   ]
  },
  {
   "cell_type": "code",
   "execution_count": 39,
   "metadata": {},
   "outputs": [],
   "source": [
    "road_teams = teams[0::2]\n",
    "home_teams = teams[1::2]\n",
    "road_scores = scores[0::2]\n",
    "home_scores = scores[1::2]\n"
   ]
  },
  {
   "cell_type": "code",
   "execution_count": 40,
   "metadata": {},
   "outputs": [
    {
     "name": "stdout",
     "output_type": "stream",
     "text": [
      "Winner =  OKC\n",
      "Winner =  BOS\n",
      "Winner =  POR\n",
      "Winner =  MIL\n"
     ]
    }
   ],
   "source": [
    "for i in range(len(road_teams)):\n",
    "    if road_scores[i] > home_scores[i]:\n",
    "        print(\"Winner = \", road_teams[i])\n",
    "    else:\n",
    "        print(\"Winner = \", home_teams[i])\n"
   ]
  },
  {
   "cell_type": "code",
   "execution_count": null,
   "metadata": {
    "collapsed": true
   },
   "outputs": [],
   "source": []
  }
 ],
 "metadata": {
  "kernelspec": {
   "display_name": "Python 3",
   "language": "python",
   "name": "python3"
  },
  "language_info": {
   "codemirror_mode": {
    "name": "ipython",
    "version": 3
   },
   "file_extension": ".py",
   "mimetype": "text/x-python",
   "name": "python",
   "nbconvert_exporter": "python",
   "pygments_lexer": "ipython3",
   "version": "3.6.1"
  }
 },
 "nbformat": 4,
 "nbformat_minor": 2
}
