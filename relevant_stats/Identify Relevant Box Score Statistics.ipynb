{
 "cells": [
  {
   "cell_type": "markdown",
   "metadata": {},
   "source": [
    "# In this notebook I will be exploring the NBADATA.csv file, and trying to identify the relevant statistics for modelling.  \n",
    "\n",
    "\n",
    "Which stats are the most correlated to a team's victory? \n",
    "-----------------------------------------------------\n",
    "\n",
    "By looking at all of these box scores, we can see what the game's final point differential (+/-) was. Using this as an output along with all of the box score statistics, we can infer which values are the most correlated to it, along with other useful takeaways to be described concurrently with the study. \n",
    "    "
   ]
  },
  {
   "cell_type": "code",
   "execution_count": 1,
   "metadata": {},
   "outputs": [],
   "source": [
    "#import dependencies, and dataset. \n",
    "\n",
    "\n",
    "import pandas as pd\n",
    "import numpy as np\n",
    "import matplotlib.pyplot as plt\n",
    "\n",
    "%matplotlib inline\n",
    "\n",
    "filename = 'NBADATA.csv'\n",
    "\n",
    "nba_dataset = pd.read_csv('../NBADATA.csv')"
   ]
  },
  {
   "cell_type": "code",
   "execution_count": 2,
   "metadata": {},
   "outputs": [
    {
     "data": {
      "text/html": [
       "<div>\n",
       "<style scoped>\n",
       "    .dataframe tbody tr th:only-of-type {\n",
       "        vertical-align: middle;\n",
       "    }\n",
       "\n",
       "    .dataframe tbody tr th {\n",
       "        vertical-align: top;\n",
       "    }\n",
       "\n",
       "    .dataframe thead th {\n",
       "        text-align: right;\n",
       "    }\n",
       "</style>\n",
       "<table border=\"1\" class=\"dataframe\">\n",
       "  <thead>\n",
       "    <tr style=\"text-align: right;\">\n",
       "      <th></th>\n",
       "      <th>Unnamed: 0</th>\n",
       "      <th>GAME_ID</th>\n",
       "      <th>Date</th>\n",
       "      <th>Team</th>\n",
       "      <th>Home</th>\n",
       "      <th>Away</th>\n",
       "      <th>FG</th>\n",
       "      <th>FGA</th>\n",
       "      <th>3P</th>\n",
       "      <th>3PA</th>\n",
       "      <th>...</th>\n",
       "      <th>AST</th>\n",
       "      <th>PF</th>\n",
       "      <th>ST</th>\n",
       "      <th>TO</th>\n",
       "      <th>BL</th>\n",
       "      <th>PTS</th>\n",
       "      <th>SPREAD</th>\n",
       "      <th>PLUS_MINUS</th>\n",
       "      <th>OU</th>\n",
       "      <th>TOTAL</th>\n",
       "    </tr>\n",
       "  </thead>\n",
       "  <tbody>\n",
       "    <tr>\n",
       "      <th>0</th>\n",
       "      <td>4</td>\n",
       "      <td>21300001</td>\n",
       "      <td>10/29/13</td>\n",
       "      <td>Orlando Magic</td>\n",
       "      <td>0</td>\n",
       "      <td>1</td>\n",
       "      <td>36</td>\n",
       "      <td>93</td>\n",
       "      <td>9</td>\n",
       "      <td>19</td>\n",
       "      <td>...</td>\n",
       "      <td>17</td>\n",
       "      <td>26</td>\n",
       "      <td>10</td>\n",
       "      <td>17</td>\n",
       "      <td>6</td>\n",
       "      <td>87</td>\n",
       "      <td>12.0</td>\n",
       "      <td>-10</td>\n",
       "      <td>U</td>\n",
       "      <td>189.5</td>\n",
       "    </tr>\n",
       "    <tr>\n",
       "      <th>1</th>\n",
       "      <td>5</td>\n",
       "      <td>21300001</td>\n",
       "      <td>10/29/13</td>\n",
       "      <td>Indiana Pacers</td>\n",
       "      <td>1</td>\n",
       "      <td>0</td>\n",
       "      <td>34</td>\n",
       "      <td>71</td>\n",
       "      <td>7</td>\n",
       "      <td>17</td>\n",
       "      <td>...</td>\n",
       "      <td>17</td>\n",
       "      <td>13</td>\n",
       "      <td>4</td>\n",
       "      <td>20</td>\n",
       "      <td>18</td>\n",
       "      <td>97</td>\n",
       "      <td>-12.0</td>\n",
       "      <td>10</td>\n",
       "      <td>U</td>\n",
       "      <td>189.5</td>\n",
       "    </tr>\n",
       "    <tr>\n",
       "      <th>2</th>\n",
       "      <td>1</td>\n",
       "      <td>21300002</td>\n",
       "      <td>10/29/13</td>\n",
       "      <td>Chicago Bulls</td>\n",
       "      <td>0</td>\n",
       "      <td>1</td>\n",
       "      <td>35</td>\n",
       "      <td>83</td>\n",
       "      <td>7</td>\n",
       "      <td>26</td>\n",
       "      <td>...</td>\n",
       "      <td>23</td>\n",
       "      <td>27</td>\n",
       "      <td>11</td>\n",
       "      <td>18</td>\n",
       "      <td>4</td>\n",
       "      <td>95</td>\n",
       "      <td>5.0</td>\n",
       "      <td>-12</td>\n",
       "      <td>O</td>\n",
       "      <td>188.0</td>\n",
       "    </tr>\n",
       "    <tr>\n",
       "      <th>3</th>\n",
       "      <td>0</td>\n",
       "      <td>21300002</td>\n",
       "      <td>10/29/13</td>\n",
       "      <td>Miami Heat</td>\n",
       "      <td>1</td>\n",
       "      <td>0</td>\n",
       "      <td>37</td>\n",
       "      <td>72</td>\n",
       "      <td>11</td>\n",
       "      <td>20</td>\n",
       "      <td>...</td>\n",
       "      <td>26</td>\n",
       "      <td>21</td>\n",
       "      <td>10</td>\n",
       "      <td>18</td>\n",
       "      <td>7</td>\n",
       "      <td>107</td>\n",
       "      <td>-5.0</td>\n",
       "      <td>12</td>\n",
       "      <td>O</td>\n",
       "      <td>188.0</td>\n",
       "    </tr>\n",
       "    <tr>\n",
       "      <th>4</th>\n",
       "      <td>3</td>\n",
       "      <td>21300003</td>\n",
       "      <td>10/29/13</td>\n",
       "      <td>Los Angeles Clippers</td>\n",
       "      <td>0</td>\n",
       "      <td>1</td>\n",
       "      <td>41</td>\n",
       "      <td>83</td>\n",
       "      <td>8</td>\n",
       "      <td>21</td>\n",
       "      <td>...</td>\n",
       "      <td>27</td>\n",
       "      <td>21</td>\n",
       "      <td>11</td>\n",
       "      <td>16</td>\n",
       "      <td>4</td>\n",
       "      <td>103</td>\n",
       "      <td>-9.5</td>\n",
       "      <td>-13</td>\n",
       "      <td>O</td>\n",
       "      <td>201.5</td>\n",
       "    </tr>\n",
       "  </tbody>\n",
       "</table>\n",
       "<p>5 rows × 24 columns</p>\n",
       "</div>"
      ],
      "text/plain": [
       "   Unnamed: 0   GAME_ID      Date                  Team  Home  Away  FG  FGA  \\\n",
       "0           4  21300001  10/29/13         Orlando Magic     0     1  36   93   \n",
       "1           5  21300001  10/29/13        Indiana Pacers     1     0  34   71   \n",
       "2           1  21300002  10/29/13         Chicago Bulls     0     1  35   83   \n",
       "3           0  21300002  10/29/13            Miami Heat     1     0  37   72   \n",
       "4           3  21300003  10/29/13  Los Angeles Clippers     0     1  41   83   \n",
       "\n",
       "   3P  3PA  ...    AST  PF  ST  TO  BL  PTS  SPREAD  PLUS_MINUS  OU  TOTAL  \n",
       "0   9   19  ...     17  26  10  17   6   87    12.0         -10   U  189.5  \n",
       "1   7   17  ...     17  13   4  20  18   97   -12.0          10   U  189.5  \n",
       "2   7   26  ...     23  27  11  18   4   95     5.0         -12   O  188.0  \n",
       "3  11   20  ...     26  21  10  18   7  107    -5.0          12   O  188.0  \n",
       "4   8   21  ...     27  21  11  16   4  103    -9.5         -13   O  201.5  \n",
       "\n",
       "[5 rows x 24 columns]"
      ]
     },
     "execution_count": 2,
     "metadata": {},
     "output_type": "execute_result"
    }
   ],
   "source": [
    "nba_dataset.head()"
   ]
  },
  {
   "cell_type": "markdown",
   "metadata": {},
   "source": [
    "# Exploratory Analysis\n",
    "\n",
    "I want the basic box score stuff, and see see if generic box score features correlate to the PLUS_MINUS category, which corresponds to the final point differential of the game. As a sanity check, the spread should play one of the biggest roles, as vegas bookmakers are very smart, and often keep it close. "
   ]
  },
  {
   "cell_type": "code",
   "execution_count": 3,
   "metadata": {},
   "outputs": [
    {
     "name": "stdout",
     "output_type": "stream",
     "text": [
      "FG Correlation:\n",
      "0.503997991165\n",
      "\n",
      "FGA Correlation:\n",
      "-0.000850904870708\n",
      "\n",
      "3P Correlation:\n",
      "0.330232588337\n",
      "\n",
      "3PA Correlation:\n",
      "0.0879946317693\n",
      "\n",
      "FT Correlation:\n",
      "0.110525621062\n",
      "\n",
      "FTA Correlation:\n",
      "0.0682632854309\n",
      "\n",
      "OR Correlation:\n",
      "-0.0280868972788\n",
      "\n",
      "DR Correlation:\n",
      "0.419821151912\n",
      "\n",
      "AST Correlation:\n",
      "0.409512742091\n",
      "\n",
      "PF Correlation:\n",
      "-0.0607043277291\n",
      "\n",
      "ST Correlation:\n",
      "0.165059256663\n",
      "\n",
      "TO Correlation:\n",
      "-0.131423640983\n",
      "\n",
      "BL Correlation:\n",
      "0.196087441626\n",
      "\n",
      "PTS Correlation:\n",
      "0.567488838081\n",
      "\n",
      "SPREAD Correlation:\n",
      "-0.493897887864\n",
      "\n",
      "3P% Correlation:\n",
      "0.389249598123\n",
      "\n",
      "FG% Correlation:\n",
      "0.548656258878\n",
      "\n",
      "FT% Correlation:\n",
      "0.127611348862\n",
      "\n",
      "TRB Correlation:\n",
      "0.328001312084\n",
      "\n",
      "AST/TO Correlation:\n",
      "0.304760416223\n",
      "\n"
     ]
    }
   ],
   "source": [
    "#delete irrelevant columns (for this section), they will be useful for other pieces of the study but not here!\n",
    "nba_explore = nba_dataset\n",
    "del nba_explore['Unnamed: 0'],nba_explore['GAME_ID'],nba_explore['Date'],nba_explore['Team'],nba_explore['Home'],nba_explore['Away']\n",
    "del nba_explore['OU'],nba_explore['TOTAL']\n",
    "\n",
    "#add some other potential columns, like efficency. \n",
    "nba_explore['3P%'] = np.divide(nba_explore['3P'].values,nba_explore['3PA'].values) \n",
    "\n",
    "nba_explore['FG%'] = np.divide(nba_explore['FG'].values,nba_explore['FGA'].values)\n",
    "nba_explore['FT%'] = np.divide(nba_explore['FT'].values,nba_explore['FTA'].values)\n",
    "nba_explore['TRB']  = nba_explore['OR'] + nba_explore['DR']\n",
    "\n",
    "nba_explore['AST/TO'] = np.divide(nba_explore['AST'].values,nba_explore['TO'].values)\n",
    "\n",
    "\n",
    "relevant_stats = []\n",
    "for col in nba_explore.columns:\n",
    "    if col != 'PLUS_MINUS':\n",
    "        print(col + \" Correlation:\")\n",
    "        corr = np.corrcoef(nba_explore[col],nba_explore['PLUS_MINUS'])\n",
    "        print(corr[0][1])\n",
    "        \n",
    "        #I've arbitrarily decided that if the abs(correlation) is greater than .1, \n",
    "        #it is statistically signifcant and correlated to outcome. Not entirely scientific, \n",
    "        #but as we'll see later the model still works so no need to lose sleep over having too many features. \n",
    "        if abs(corr[0][1]) < .1:\n",
    "            pass\n",
    "        else:\n",
    "            relevant_stats.append(col)\n",
    "        \n",
    "        print()"
   ]
  },
  {
   "cell_type": "code",
   "execution_count": 4,
   "metadata": {},
   "outputs": [
    {
     "name": "stdout",
     "output_type": "stream",
     "text": [
      "The relevant statistics identified are  ['FG', '3P', 'FT', 'DR', 'AST', 'ST', 'TO', 'BL', 'PTS', 'SPREAD', '3P%', 'FG%', 'FT%', 'TRB', 'AST/TO']\n"
     ]
    }
   ],
   "source": [
    "print(\"The relevant statistics identified are \", relevant_stats)"
   ]
  },
  {
   "cell_type": "markdown",
   "metadata": {},
   "source": [
    "# For a more in depth visualization of this problem, I've also tried to apply a function that apply a graphical correlation matrix to this dataset."
   ]
  },
  {
   "cell_type": "code",
   "execution_count": 5,
   "metadata": {
    "collapsed": true
   },
   "outputs": [],
   "source": [
    "def plot_corr(df,size=20):\n",
    "    '''Function plots a graphical correlation matrix for each pair of columns in the dataframe.\n",
    "\n",
    "    Input:\n",
    "        df: pandas DataFrame\n",
    "        size: vertical and horizontal size of the plot'''\n",
    "\n",
    "    corr = df.corr()\n",
    "    fig, ax = plt.subplots(figsize=(size, size))\n",
    "    ax.matshow(corr)\n",
    "   # ax.set_legend()\n",
    "    plt.xticks(range(len(corr.columns)), corr.columns);\n",
    "    plt.yticks(range(len(corr.columns)), corr.columns);\n",
    "    plt.legend()"
   ]
  },
  {
   "cell_type": "code",
   "execution_count": 6,
   "metadata": {},
   "outputs": [
    {
     "name": "stderr",
     "output_type": "stream",
     "text": [
      "/Users/noahkasmanoff/anaconda/lib/python3.6/site-packages/matplotlib/axes/_axes.py:545: UserWarning: No labelled objects found. Use label='...' kwarg on individual plots.\n",
      "  warnings.warn(\"No labelled objects found. \"\n"
     ]
    },
    {
     "data": {
      "image/png": "[encoded data removed]",
      "text/plain": [
       "<matplotlib.figure.Figure at 0x11856a780>"
      ]
     },
     "metadata": {},
     "output_type": "display_data"
    }
   ],
   "source": [
    "plot_corr(nba_explore,size=30)\n"
   ]
  },
  {
   "cell_type": "markdown",
   "metadata": {},
   "source": [
    "So in additon to observing how each of these stats is correlated to the PLUS_MINUS of the game, this provides a correlation between each of these stats with each other. As another sanity check, the number of field goals made should be highly correlated to the points scored. This appears to be the case!"
   ]
  },
  {
   "cell_type": "markdown",
   "metadata": {},
   "source": [
    "The next logical step in this study is to next identify whether or not a n game average can be used as a proxy for the corresponding perfomance in the next game. Please head over to the split_optimizer repo to see how this problem was handled.  "
   ]
  },
  {
   "cell_type": "code",
   "execution_count": null,
   "metadata": {
    "collapsed": true
   },
   "outputs": [],
   "source": []
  }
 ],
 "metadata": {
  "kernelspec": {
   "display_name": "Python 3",
   "language": "python",
   "name": "python3"
  },
  "language_info": {
   "codemirror_mode": {
    "name": "ipython",
    "version": 3
   },
   "file_extension": ".py",
   "mimetype": "text/x-python",
   "name": "python",
   "nbconvert_exporter": "python",
   "pygments_lexer": "ipython3",
   "version": "3.6.1"
  }
 },
 "nbformat": 4,
 "nbformat_minor": 2
}
